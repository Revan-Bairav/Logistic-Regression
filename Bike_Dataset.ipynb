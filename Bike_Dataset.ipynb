{
  "nbformat": 4,
  "nbformat_minor": 0,
  "metadata": {
    "colab": {
      "provenance": [],
      "authorship_tag": "ABX9TyOnJHjt9frw2zYL82VExiOc",
      "include_colab_link": true
    },
    "kernelspec": {
      "name": "python3",
      "display_name": "Python 3"
    },
    "language_info": {
      "name": "python"
    }
  },
  "cells": [
    {
      "cell_type": "markdown",
      "metadata": {
        "id": "view-in-github",
        "colab_type": "text"
      },
      "source": [
        "<a href=\"https://colab.research.google.com/github/Slzl/Logistic-Regression/blob/main/Bike_Dataset.ipynb\" target=\"_parent\"><img src=\"https://colab.research.google.com/assets/colab-badge.svg\" alt=\"Open In Colab\"/></a>"
      ]
    },
    {
      "cell_type": "code",
      "source": [
        "import pandas as pd\n",
        "import numpy as np\n",
        "from sklearn.linear_model import LogisticRegression\n",
        "df = pd.read_csv('/content/bike_dataset[1].csv')"
      ],
      "metadata": {
        "id": "DkBIMDTP1ndr"
      },
      "execution_count": null,
      "outputs": []
    },
    {
      "cell_type": "code",
      "source": [
        "df.shape"
      ],
      "metadata": {
        "colab": {
          "base_uri": "https://localhost:8080/"
        },
        "id": "5rYwH-D0Kizi",
        "outputId": "069c970c-80ef-44fc-dc84-f567f0710151"
      },
      "execution_count": 187,
      "outputs": [
        {
          "output_type": "execute_result",
          "data": {
            "text/plain": [
              "(361, 11)"
            ]
          },
          "metadata": {},
          "execution_count": 187
        }
      ]
    },
    {
      "cell_type": "code",
      "source": [
        "df.head()"
      ],
      "metadata": {
        "colab": {
          "base_uri": "https://localhost:8080/",
          "height": 406
        },
        "id": "4M0bvcezKp-R",
        "outputId": "f9527939-f45d-48ea-9d01-ed155365d882"
      },
      "execution_count": 188,
      "outputs": [
        {
          "output_type": "execute_result",
          "data": {
            "text/plain": [
              "              model_name   price      CC  mileage  weight_in_kg  \\\n",
              "0  Gravton Motors Quanta   99000  113.26    320.0           100   \n",
              "1      Simple Energy One  109999  131.64    236.0           110   \n",
              "2          Okaya Classiq   69900  108.50    200.0            95   \n",
              "3     Oben Electric Rorr  102999  131.64    200.0           120   \n",
              "4        Ola Electric S1   85099  201.92    181.0           121   \n",
              "\n",
              "                                               links  acceleration_speed  \\\n",
              "0  https://www.carandbike.com/gravton-motors-bike...                4.20   \n",
              "1  https://www.carandbike.com/simple-energy-bikes...                3.60   \n",
              "2     https://www.carandbike.com/okaya-bikes/classiq                6.64   \n",
              "3  https://www.carandbike.com/oben-electric-bikes...                3.00   \n",
              "4   https://www.carandbike.com/ola-electric-bikes/s1                2.90   \n",
              "\n",
              "   top_speed  type_of_bike_Electric Bike  type_of_bike_Petrol Bike price_bin  \n",
              "0       70.0                           0                         1       Low  \n",
              "1      100.0                           0                         1  Moderate  \n",
              "2       25.0                           0                         1       Low  \n",
              "3      100.0                           0                         1  Moderate  \n",
              "4      116.0                           0                         1       Low  "
            ],
            "text/html": [
              "\n",
              "  <div id=\"df-2446a3e1-20a3-4876-896e-ad13455bf3d3\">\n",
              "    <div class=\"colab-df-container\">\n",
              "      <div>\n",
              "<style scoped>\n",
              "    .dataframe tbody tr th:only-of-type {\n",
              "        vertical-align: middle;\n",
              "    }\n",
              "\n",
              "    .dataframe tbody tr th {\n",
              "        vertical-align: top;\n",
              "    }\n",
              "\n",
              "    .dataframe thead th {\n",
              "        text-align: right;\n",
              "    }\n",
              "</style>\n",
              "<table border=\"1\" class=\"dataframe\">\n",
              "  <thead>\n",
              "    <tr style=\"text-align: right;\">\n",
              "      <th></th>\n",
              "      <th>model_name</th>\n",
              "      <th>price</th>\n",
              "      <th>CC</th>\n",
              "      <th>mileage</th>\n",
              "      <th>weight_in_kg</th>\n",
              "      <th>links</th>\n",
              "      <th>acceleration_speed</th>\n",
              "      <th>top_speed</th>\n",
              "      <th>type_of_bike_Electric Bike</th>\n",
              "      <th>type_of_bike_Petrol Bike</th>\n",
              "      <th>price_bin</th>\n",
              "    </tr>\n",
              "  </thead>\n",
              "  <tbody>\n",
              "    <tr>\n",
              "      <th>0</th>\n",
              "      <td>Gravton Motors Quanta</td>\n",
              "      <td>99000</td>\n",
              "      <td>113.26</td>\n",
              "      <td>320.0</td>\n",
              "      <td>100</td>\n",
              "      <td>https://www.carandbike.com/gravton-motors-bike...</td>\n",
              "      <td>4.20</td>\n",
              "      <td>70.0</td>\n",
              "      <td>0</td>\n",
              "      <td>1</td>\n",
              "      <td>Low</td>\n",
              "    </tr>\n",
              "    <tr>\n",
              "      <th>1</th>\n",
              "      <td>Simple Energy One</td>\n",
              "      <td>109999</td>\n",
              "      <td>131.64</td>\n",
              "      <td>236.0</td>\n",
              "      <td>110</td>\n",
              "      <td>https://www.carandbike.com/simple-energy-bikes...</td>\n",
              "      <td>3.60</td>\n",
              "      <td>100.0</td>\n",
              "      <td>0</td>\n",
              "      <td>1</td>\n",
              "      <td>Moderate</td>\n",
              "    </tr>\n",
              "    <tr>\n",
              "      <th>2</th>\n",
              "      <td>Okaya Classiq</td>\n",
              "      <td>69900</td>\n",
              "      <td>108.50</td>\n",
              "      <td>200.0</td>\n",
              "      <td>95</td>\n",
              "      <td>https://www.carandbike.com/okaya-bikes/classiq</td>\n",
              "      <td>6.64</td>\n",
              "      <td>25.0</td>\n",
              "      <td>0</td>\n",
              "      <td>1</td>\n",
              "      <td>Low</td>\n",
              "    </tr>\n",
              "    <tr>\n",
              "      <th>3</th>\n",
              "      <td>Oben Electric Rorr</td>\n",
              "      <td>102999</td>\n",
              "      <td>131.64</td>\n",
              "      <td>200.0</td>\n",
              "      <td>120</td>\n",
              "      <td>https://www.carandbike.com/oben-electric-bikes...</td>\n",
              "      <td>3.00</td>\n",
              "      <td>100.0</td>\n",
              "      <td>0</td>\n",
              "      <td>1</td>\n",
              "      <td>Moderate</td>\n",
              "    </tr>\n",
              "    <tr>\n",
              "      <th>4</th>\n",
              "      <td>Ola Electric S1</td>\n",
              "      <td>85099</td>\n",
              "      <td>201.92</td>\n",
              "      <td>181.0</td>\n",
              "      <td>121</td>\n",
              "      <td>https://www.carandbike.com/ola-electric-bikes/s1</td>\n",
              "      <td>2.90</td>\n",
              "      <td>116.0</td>\n",
              "      <td>0</td>\n",
              "      <td>1</td>\n",
              "      <td>Low</td>\n",
              "    </tr>\n",
              "  </tbody>\n",
              "</table>\n",
              "</div>\n",
              "      <button class=\"colab-df-convert\" onclick=\"convertToInteractive('df-2446a3e1-20a3-4876-896e-ad13455bf3d3')\"\n",
              "              title=\"Convert this dataframe to an interactive table.\"\n",
              "              style=\"display:none;\">\n",
              "        \n",
              "  <svg xmlns=\"http://www.w3.org/2000/svg\" height=\"24px\"viewBox=\"0 0 24 24\"\n",
              "       width=\"24px\">\n",
              "    <path d=\"M0 0h24v24H0V0z\" fill=\"none\"/>\n",
              "    <path d=\"M18.56 5.44l.94 2.06.94-2.06 2.06-.94-2.06-.94-.94-2.06-.94 2.06-2.06.94zm-11 1L8.5 8.5l.94-2.06 2.06-.94-2.06-.94L8.5 2.5l-.94 2.06-2.06.94zm10 10l.94 2.06.94-2.06 2.06-.94-2.06-.94-.94-2.06-.94 2.06-2.06.94z\"/><path d=\"M17.41 7.96l-1.37-1.37c-.4-.4-.92-.59-1.43-.59-.52 0-1.04.2-1.43.59L10.3 9.45l-7.72 7.72c-.78.78-.78 2.05 0 2.83L4 21.41c.39.39.9.59 1.41.59.51 0 1.02-.2 1.41-.59l7.78-7.78 2.81-2.81c.8-.78.8-2.07 0-2.86zM5.41 20L4 18.59l7.72-7.72 1.47 1.35L5.41 20z\"/>\n",
              "  </svg>\n",
              "      </button>\n",
              "      \n",
              "  <style>\n",
              "    .colab-df-container {\n",
              "      display:flex;\n",
              "      flex-wrap:wrap;\n",
              "      gap: 12px;\n",
              "    }\n",
              "\n",
              "    .colab-df-convert {\n",
              "      background-color: #E8F0FE;\n",
              "      border: none;\n",
              "      border-radius: 50%;\n",
              "      cursor: pointer;\n",
              "      display: none;\n",
              "      fill: #1967D2;\n",
              "      height: 32px;\n",
              "      padding: 0 0 0 0;\n",
              "      width: 32px;\n",
              "    }\n",
              "\n",
              "    .colab-df-convert:hover {\n",
              "      background-color: #E2EBFA;\n",
              "      box-shadow: 0px 1px 2px rgba(60, 64, 67, 0.3), 0px 1px 3px 1px rgba(60, 64, 67, 0.15);\n",
              "      fill: #174EA6;\n",
              "    }\n",
              "\n",
              "    [theme=dark] .colab-df-convert {\n",
              "      background-color: #3B4455;\n",
              "      fill: #D2E3FC;\n",
              "    }\n",
              "\n",
              "    [theme=dark] .colab-df-convert:hover {\n",
              "      background-color: #434B5C;\n",
              "      box-shadow: 0px 1px 3px 1px rgba(0, 0, 0, 0.15);\n",
              "      filter: drop-shadow(0px 1px 2px rgba(0, 0, 0, 0.3));\n",
              "      fill: #FFFFFF;\n",
              "    }\n",
              "  </style>\n",
              "\n",
              "      <script>\n",
              "        const buttonEl =\n",
              "          document.querySelector('#df-2446a3e1-20a3-4876-896e-ad13455bf3d3 button.colab-df-convert');\n",
              "        buttonEl.style.display =\n",
              "          google.colab.kernel.accessAllowed ? 'block' : 'none';\n",
              "\n",
              "        async function convertToInteractive(key) {\n",
              "          const element = document.querySelector('#df-2446a3e1-20a3-4876-896e-ad13455bf3d3');\n",
              "          const dataTable =\n",
              "            await google.colab.kernel.invokeFunction('convertToInteractive',\n",
              "                                                     [key], {});\n",
              "          if (!dataTable) return;\n",
              "\n",
              "          const docLinkHtml = 'Like what you see? Visit the ' +\n",
              "            '<a target=\"_blank\" href=https://colab.research.google.com/notebooks/data_table.ipynb>data table notebook</a>'\n",
              "            + ' to learn more about interactive tables.';\n",
              "          element.innerHTML = '';\n",
              "          dataTable['output_type'] = 'display_data';\n",
              "          await google.colab.output.renderOutput(dataTable, element);\n",
              "          const docLink = document.createElement('div');\n",
              "          docLink.innerHTML = docLinkHtml;\n",
              "          element.appendChild(docLink);\n",
              "        }\n",
              "      </script>\n",
              "    </div>\n",
              "  </div>\n",
              "  "
            ]
          },
          "metadata": {},
          "execution_count": 188
        }
      ]
    },
    {
      "cell_type": "code",
      "source": [
        "df.info()"
      ],
      "metadata": {
        "colab": {
          "base_uri": "https://localhost:8080/"
        },
        "id": "6ttZvqh7KuGw",
        "outputId": "755f9241-57bf-48ed-ee7b-430da6c8e10a"
      },
      "execution_count": 189,
      "outputs": [
        {
          "output_type": "stream",
          "name": "stdout",
          "text": [
            "<class 'pandas.core.frame.DataFrame'>\n",
            "RangeIndex: 361 entries, 0 to 360\n",
            "Data columns (total 11 columns):\n",
            " #   Column                      Non-Null Count  Dtype   \n",
            "---  ------                      --------------  -----   \n",
            " 0   model_name                  361 non-null    object  \n",
            " 1   price                       361 non-null    int64   \n",
            " 2   CC                          361 non-null    float64 \n",
            " 3   mileage                     361 non-null    float64 \n",
            " 4   weight_in_kg                361 non-null    int64   \n",
            " 5   links                       361 non-null    object  \n",
            " 6   acceleration_speed          361 non-null    float64 \n",
            " 7   top_speed                   361 non-null    float64 \n",
            " 8   type_of_bike_Electric Bike  361 non-null    int64   \n",
            " 9   type_of_bike_Petrol Bike    361 non-null    int64   \n",
            " 10  price_bin                   360 non-null    category\n",
            "dtypes: category(1), float64(4), int64(4), object(2)\n",
            "memory usage: 28.9+ KB\n"
          ]
        }
      ]
    },
    {
      "cell_type": "code",
      "source": [
        "from sklearn.impute import KNNImputer"
      ],
      "metadata": {
        "id": "7i8Qa1Cy6Cid"
      },
      "execution_count": null,
      "outputs": []
    },
    {
      "cell_type": "code",
      "source": [
        "df= df.copy()"
      ],
      "metadata": {
        "id": "HAQTi2vb6HHV"
      },
      "execution_count": null,
      "outputs": []
    },
    {
      "cell_type": "code",
      "source": [
        "imputer = KNNImputer(n_neighbors=5)"
      ],
      "metadata": {
        "id": "CZNrqVzM6J_8"
      },
      "execution_count": null,
      "outputs": []
    },
    {
      "cell_type": "code",
      "source": [
        "df[['CC', 'acceleration_speed', 'top_speed']] = imputer.fit_transform(df[['CC', 'acceleration_speed', 'top_speed']])"
      ],
      "metadata": {
        "id": "Dg9XslRY6XEd"
      },
      "execution_count": null,
      "outputs": []
    },
    {
      "cell_type": "code",
      "source": [
        "df.isnull().sum()"
      ],
      "metadata": {
        "colab": {
          "base_uri": "https://localhost:8080/"
        },
        "id": "zrDWd4Fo42xL",
        "outputId": "046a4e50-d1b6-47b1-8ab1-d71d0926dd44"
      },
      "execution_count": null,
      "outputs": [
        {
          "output_type": "execute_result",
          "data": {
            "text/plain": [
              "model_name            0\n",
              "price                 0\n",
              "CC                    0\n",
              "mileage               0\n",
              "type_of_bike          0\n",
              "weight_in_kg          0\n",
              "links                 0\n",
              "acceleration_speed    0\n",
              "top_speed             0\n",
              "dtype: int64"
            ]
          },
          "metadata": {},
          "execution_count": 116
        }
      ]
    },
    {
      "cell_type": "code",
      "source": [
        "import matplotlib.pyplot as plt"
      ],
      "metadata": {
        "id": "8J0r3wIi65jh"
      },
      "execution_count": null,
      "outputs": []
    },
    {
      "cell_type": "code",
      "source": [
        "plt.boxplot([df['price'], df['CC'], df['mileage'], df['weight_in_kg'], df['acceleration_speed'], df['top_speed']])"
      ],
      "metadata": {
        "colab": {
          "base_uri": "https://localhost:8080/",
          "height": 1000
        },
        "id": "xp1CS0qh67PQ",
        "outputId": "4f7e0e16-e776-401f-a96e-d2331688d9f1"
      },
      "execution_count": null,
      "outputs": [
        {
          "output_type": "execute_result",
          "data": {
            "text/plain": [
              "{'whiskers': [<matplotlib.lines.Line2D at 0x7f350bb64790>,\n",
              "  <matplotlib.lines.Line2D at 0x7f350bb64a90>,\n",
              "  <matplotlib.lines.Line2D at 0x7f350bb76be0>,\n",
              "  <matplotlib.lines.Line2D at 0x7f350bb76eb0>,\n",
              "  <matplotlib.lines.Line2D at 0x7f350c9ab880>,\n",
              "  <matplotlib.lines.Line2D at 0x7f350bb05fd0>,\n",
              "  <matplotlib.lines.Line2D at 0x7f350bb22130>,\n",
              "  <matplotlib.lines.Line2D at 0x7f350bb22400>,\n",
              "  <matplotlib.lines.Line2D at 0x7f350c997e20>,\n",
              "  <matplotlib.lines.Line2D at 0x7f350c9976d0>,\n",
              "  <matplotlib.lines.Line2D at 0x7f350c99d640>,\n",
              "  <matplotlib.lines.Line2D at 0x7f350c99dd00>],\n",
              " 'caps': [<matplotlib.lines.Line2D at 0x7f350bb64d60>,\n",
              "  <matplotlib.lines.Line2D at 0x7f350bb76070>,\n",
              "  <matplotlib.lines.Line2D at 0x7f350bb051c0>,\n",
              "  <matplotlib.lines.Line2D at 0x7f350bb05490>,\n",
              "  <matplotlib.lines.Line2D at 0x7f350bb132e0>,\n",
              "  <matplotlib.lines.Line2D at 0x7f350bb135b0>,\n",
              "  <matplotlib.lines.Line2D at 0x7f350bb226d0>,\n",
              "  <matplotlib.lines.Line2D at 0x7f35411d5af0>,\n",
              "  <matplotlib.lines.Line2D at 0x7f350c997550>,\n",
              "  <matplotlib.lines.Line2D at 0x7f350c9977c0>,\n",
              "  <matplotlib.lines.Line2D at 0x7f350cb9a3a0>,\n",
              "  <matplotlib.lines.Line2D at 0x7f350cb9a8b0>],\n",
              " 'boxes': [<matplotlib.lines.Line2D at 0x7f350bb644c0>,\n",
              "  <matplotlib.lines.Line2D at 0x7f350bb76910>,\n",
              "  <matplotlib.lines.Line2D at 0x7f350bb05d00>,\n",
              "  <matplotlib.lines.Line2D at 0x7f350bb13e20>,\n",
              "  <matplotlib.lines.Line2D at 0x7f350c991d60>,\n",
              "  <matplotlib.lines.Line2D at 0x7f350c99d040>],\n",
              " 'medians': [<matplotlib.lines.Line2D at 0x7f350bb76340>,\n",
              "  <matplotlib.lines.Line2D at 0x7f350bb05760>,\n",
              "  <matplotlib.lines.Line2D at 0x7f350bb13880>,\n",
              "  <matplotlib.lines.Line2D at 0x7f350c991670>,\n",
              "  <matplotlib.lines.Line2D at 0x7f350c997e80>,\n",
              "  <matplotlib.lines.Line2D at 0x7f350cb9a4f0>],\n",
              " 'fliers': [<matplotlib.lines.Line2D at 0x7f350bb76610>,\n",
              "  <matplotlib.lines.Line2D at 0x7f350bb05a30>,\n",
              "  <matplotlib.lines.Line2D at 0x7f350bb13b50>,\n",
              "  <matplotlib.lines.Line2D at 0x7f350c9913d0>,\n",
              "  <matplotlib.lines.Line2D at 0x7f350c9978e0>,\n",
              "  <matplotlib.lines.Line2D at 0x7f350c9f83d0>],\n",
              " 'means': []}"
            ]
          },
          "metadata": {},
          "execution_count": 119
        },
        {
          "output_type": "display_data",
          "data": {
            "text/plain": [
              "<Figure size 432x288 with 1 Axes>"
            ],
            "image/png": "[encoded data removed]"
          },
          "metadata": {
            "needs_background": "light"
          }
        }
      ]
    },
    {
      "cell_type": "code",
      "source": [
        "plt.show()"
      ],
      "metadata": {
        "id": "1VW2ogSb7Lvc"
      },
      "execution_count": null,
      "outputs": []
    },
    {
      "cell_type": "code",
      "source": [
        "q1 = df['price'].quantile(0.25)\n",
        "q2 = df['price'].quantile(0.5)\n",
        "q3 = df['price'].quantile(0.75)"
      ],
      "metadata": {
        "id": "GLy7A7pm-Z4t"
      },
      "execution_count": null,
      "outputs": []
    },
    {
      "cell_type": "code",
      "source": [
        "bin_edges = [df['price'].min(), q1, q2, q3, df['price'].max()]"
      ],
      "metadata": {
        "id": "5OxTPtyW-ae0"
      },
      "execution_count": null,
      "outputs": []
    },
    {
      "cell_type": "code",
      "source": [
        "bin_labels = ['Low', 'Moderate', 'High', 'Very high']"
      ],
      "metadata": {
        "id": "UuPNk4FY-gl4"
      },
      "execution_count": null,
      "outputs": []
    },
    {
      "cell_type": "code",
      "source": [
        "df['price_bin'] = pd.cut(df['price'], bins=bin_edges, labels=bin_labels)"
      ],
      "metadata": {
        "id": "0cQz7pHM-kJK"
      },
      "execution_count": null,
      "outputs": []
    },
    {
      "cell_type": "code",
      "source": [
        "print(df.head())"
      ],
      "metadata": {
        "colab": {
          "base_uri": "https://localhost:8080/"
        },
        "id": "iync0Zhn-mX9",
        "outputId": "33f8f28d-fc9b-401f-f5ac-c8b5c2541aae"
      },
      "execution_count": null,
      "outputs": [
        {
          "output_type": "stream",
          "name": "stdout",
          "text": [
            "              model_name   price      CC  mileage  weight_in_kg  \\\n",
            "0  Gravton Motors Quanta   99000  113.26    320.0           100   \n",
            "1      Simple Energy One  109999  131.64    236.0           110   \n",
            "2          Okaya Classiq   69900  108.50    200.0            95   \n",
            "3     Oben Electric Rorr  102999  131.64    200.0           120   \n",
            "4        Ola Electric S1   85099  201.92    181.0           121   \n",
            "\n",
            "                                               links  acceleration_speed  \\\n",
            "0  https://www.carandbike.com/gravton-motors-bike...                4.20   \n",
            "1  https://www.carandbike.com/simple-energy-bikes...                3.60   \n",
            "2     https://www.carandbike.com/okaya-bikes/classiq                6.64   \n",
            "3  https://www.carandbike.com/oben-electric-bikes...                3.00   \n",
            "4   https://www.carandbike.com/ola-electric-bikes/s1                2.90   \n",
            "\n",
            "   top_speed  type_of_bike_Electric Bike  type_of_bike_Petrol Bike price_bin  \n",
            "0       70.0                         1.0                       0.0       Low  \n",
            "1      100.0                         1.0                       0.0  Moderate  \n",
            "2       25.0                         1.0                       0.0       Low  \n",
            "3      100.0                         1.0                       0.0  Moderate  \n",
            "4      116.0                         1.0                       0.0       Low  \n"
          ]
        }
      ]
    },
    {
      "cell_type": "code",
      "source": [
        "df.describe()"
      ],
      "metadata": {
        "colab": {
          "base_uri": "https://localhost:8080/",
          "height": 382
        },
        "id": "POD41jFM-r-b",
        "outputId": "31ccb8fb-1f77-482b-81a0-80b03a58f8f4"
      },
      "execution_count": null,
      "outputs": [
        {
          "output_type": "execute_result",
          "data": {
            "text/plain": [
              "              price           CC     mileage  weight_in_kg  \\\n",
              "count  3.610000e+02   361.000000  361.000000    361.000000   \n",
              "mean   8.399079e+05   591.857285   44.681413    178.839335   \n",
              "std    1.052083e+06   543.220237   39.890270     73.839516   \n",
              "min    3.800000e+04    87.800000    8.000000     55.000000   \n",
              "25%    1.000000e+05   124.700000   20.000000    118.000000   \n",
              "50%    2.420000e+05   312.200000   30.000000    169.000000   \n",
              "75%    1.459000e+06   998.000000   55.000000    216.000000   \n",
              "max    7.990000e+06  2458.000000  320.000000    433.000000   \n",
              "\n",
              "       acceleration_speed   top_speed  type_of_bike_Electric Bike  \\\n",
              "count          361.000000  361.000000                  361.000000   \n",
              "mean             3.546061  124.626055                    0.157895   \n",
              "std              2.106613   40.857865                    0.365148   \n",
              "min              1.010000   25.000000                    0.000000   \n",
              "25%              2.258000   93.840000                    0.000000   \n",
              "50%              2.300000  141.200000                    0.000000   \n",
              "75%              4.000000  156.200000                    0.000000   \n",
              "max             13.800000  200.000000                    1.000000   \n",
              "\n",
              "       type_of_bike_Petrol Bike  \n",
              "count                361.000000  \n",
              "mean                   0.842105  \n",
              "std                    0.365148  \n",
              "min                    0.000000  \n",
              "25%                    1.000000  \n",
              "50%                    1.000000  \n",
              "75%                    1.000000  \n",
              "max                    1.000000  "
            ],
            "text/html": [
              "\n",
              "  <div id=\"df-7dac6184-46be-4cc6-8e67-d094f314e3b0\">\n",
              "    <div class=\"colab-df-container\">\n",
              "      <div>\n",
              "<style scoped>\n",
              "    .dataframe tbody tr th:only-of-type {\n",
              "        vertical-align: middle;\n",
              "    }\n",
              "\n",
              "    .dataframe tbody tr th {\n",
              "        vertical-align: top;\n",
              "    }\n",
              "\n",
              "    .dataframe thead th {\n",
              "        text-align: right;\n",
              "    }\n",
              "</style>\n",
              "<table border=\"1\" class=\"dataframe\">\n",
              "  <thead>\n",
              "    <tr style=\"text-align: right;\">\n",
              "      <th></th>\n",
              "      <th>price</th>\n",
              "      <th>CC</th>\n",
              "      <th>mileage</th>\n",
              "      <th>weight_in_kg</th>\n",
              "      <th>acceleration_speed</th>\n",
              "      <th>top_speed</th>\n",
              "      <th>type_of_bike_Electric Bike</th>\n",
              "      <th>type_of_bike_Petrol Bike</th>\n",
              "    </tr>\n",
              "  </thead>\n",
              "  <tbody>\n",
              "    <tr>\n",
              "      <th>count</th>\n",
              "      <td>3.610000e+02</td>\n",
              "      <td>361.000000</td>\n",
              "      <td>361.000000</td>\n",
              "      <td>361.000000</td>\n",
              "      <td>361.000000</td>\n",
              "      <td>361.000000</td>\n",
              "      <td>361.000000</td>\n",
              "      <td>361.000000</td>\n",
              "    </tr>\n",
              "    <tr>\n",
              "      <th>mean</th>\n",
              "      <td>8.399079e+05</td>\n",
              "      <td>591.857285</td>\n",
              "      <td>44.681413</td>\n",
              "      <td>178.839335</td>\n",
              "      <td>3.546061</td>\n",
              "      <td>124.626055</td>\n",
              "      <td>0.157895</td>\n",
              "      <td>0.842105</td>\n",
              "    </tr>\n",
              "    <tr>\n",
              "      <th>std</th>\n",
              "      <td>1.052083e+06</td>\n",
              "      <td>543.220237</td>\n",
              "      <td>39.890270</td>\n",
              "      <td>73.839516</td>\n",
              "      <td>2.106613</td>\n",
              "      <td>40.857865</td>\n",
              "      <td>0.365148</td>\n",
              "      <td>0.365148</td>\n",
              "    </tr>\n",
              "    <tr>\n",
              "      <th>min</th>\n",
              "      <td>3.800000e+04</td>\n",
              "      <td>87.800000</td>\n",
              "      <td>8.000000</td>\n",
              "      <td>55.000000</td>\n",
              "      <td>1.010000</td>\n",
              "      <td>25.000000</td>\n",
              "      <td>0.000000</td>\n",
              "      <td>0.000000</td>\n",
              "    </tr>\n",
              "    <tr>\n",
              "      <th>25%</th>\n",
              "      <td>1.000000e+05</td>\n",
              "      <td>124.700000</td>\n",
              "      <td>20.000000</td>\n",
              "      <td>118.000000</td>\n",
              "      <td>2.258000</td>\n",
              "      <td>93.840000</td>\n",
              "      <td>0.000000</td>\n",
              "      <td>1.000000</td>\n",
              "    </tr>\n",
              "    <tr>\n",
              "      <th>50%</th>\n",
              "      <td>2.420000e+05</td>\n",
              "      <td>312.200000</td>\n",
              "      <td>30.000000</td>\n",
              "      <td>169.000000</td>\n",
              "      <td>2.300000</td>\n",
              "      <td>141.200000</td>\n",
              "      <td>0.000000</td>\n",
              "      <td>1.000000</td>\n",
              "    </tr>\n",
              "    <tr>\n",
              "      <th>75%</th>\n",
              "      <td>1.459000e+06</td>\n",
              "      <td>998.000000</td>\n",
              "      <td>55.000000</td>\n",
              "      <td>216.000000</td>\n",
              "      <td>4.000000</td>\n",
              "      <td>156.200000</td>\n",
              "      <td>0.000000</td>\n",
              "      <td>1.000000</td>\n",
              "    </tr>\n",
              "    <tr>\n",
              "      <th>max</th>\n",
              "      <td>7.990000e+06</td>\n",
              "      <td>2458.000000</td>\n",
              "      <td>320.000000</td>\n",
              "      <td>433.000000</td>\n",
              "      <td>13.800000</td>\n",
              "      <td>200.000000</td>\n",
              "      <td>1.000000</td>\n",
              "      <td>1.000000</td>\n",
              "    </tr>\n",
              "  </tbody>\n",
              "</table>\n",
              "</div>\n",
              "      <button class=\"colab-df-convert\" onclick=\"convertToInteractive('df-7dac6184-46be-4cc6-8e67-d094f314e3b0')\"\n",
              "              title=\"Convert this dataframe to an interactive table.\"\n",
              "              style=\"display:none;\">\n",
              "        \n",
              "  <svg xmlns=\"http://www.w3.org/2000/svg\" height=\"24px\"viewBox=\"0 0 24 24\"\n",
              "       width=\"24px\">\n",
              "    <path d=\"M0 0h24v24H0V0z\" fill=\"none\"/>\n",
              "    <path d=\"M18.56 5.44l.94 2.06.94-2.06 2.06-.94-2.06-.94-.94-2.06-.94 2.06-2.06.94zm-11 1L8.5 8.5l.94-2.06 2.06-.94-2.06-.94L8.5 2.5l-.94 2.06-2.06.94zm10 10l.94 2.06.94-2.06 2.06-.94-2.06-.94-.94-2.06-.94 2.06-2.06.94z\"/><path d=\"M17.41 7.96l-1.37-1.37c-.4-.4-.92-.59-1.43-.59-.52 0-1.04.2-1.43.59L10.3 9.45l-7.72 7.72c-.78.78-.78 2.05 0 2.83L4 21.41c.39.39.9.59 1.41.59.51 0 1.02-.2 1.41-.59l7.78-7.78 2.81-2.81c.8-.78.8-2.07 0-2.86zM5.41 20L4 18.59l7.72-7.72 1.47 1.35L5.41 20z\"/>\n",
              "  </svg>\n",
              "      </button>\n",
              "      \n",
              "  <style>\n",
              "    .colab-df-container {\n",
              "      display:flex;\n",
              "      flex-wrap:wrap;\n",
              "      gap: 12px;\n",
              "    }\n",
              "\n",
              "    .colab-df-convert {\n",
              "      background-color: #E8F0FE;\n",
              "      border: none;\n",
              "      border-radius: 50%;\n",
              "      cursor: pointer;\n",
              "      display: none;\n",
              "      fill: #1967D2;\n",
              "      height: 32px;\n",
              "      padding: 0 0 0 0;\n",
              "      width: 32px;\n",
              "    }\n",
              "\n",
              "    .colab-df-convert:hover {\n",
              "      background-color: #E2EBFA;\n",
              "      box-shadow: 0px 1px 2px rgba(60, 64, 67, 0.3), 0px 1px 3px 1px rgba(60, 64, 67, 0.15);\n",
              "      fill: #174EA6;\n",
              "    }\n",
              "\n",
              "    [theme=dark] .colab-df-convert {\n",
              "      background-color: #3B4455;\n",
              "      fill: #D2E3FC;\n",
              "    }\n",
              "\n",
              "    [theme=dark] .colab-df-convert:hover {\n",
              "      background-color: #434B5C;\n",
              "      box-shadow: 0px 1px 3px 1px rgba(0, 0, 0, 0.15);\n",
              "      filter: drop-shadow(0px 1px 2px rgba(0, 0, 0, 0.3));\n",
              "      fill: #FFFFFF;\n",
              "    }\n",
              "  </style>\n",
              "\n",
              "      <script>\n",
              "        const buttonEl =\n",
              "          document.querySelector('#df-7dac6184-46be-4cc6-8e67-d094f314e3b0 button.colab-df-convert');\n",
              "        buttonEl.style.display =\n",
              "          google.colab.kernel.accessAllowed ? 'block' : 'none';\n",
              "\n",
              "        async function convertToInteractive(key) {\n",
              "          const element = document.querySelector('#df-7dac6184-46be-4cc6-8e67-d094f314e3b0');\n",
              "          const dataTable =\n",
              "            await google.colab.kernel.invokeFunction('convertToInteractive',\n",
              "                                                     [key], {});\n",
              "          if (!dataTable) return;\n",
              "\n",
              "          const docLinkHtml = 'Like what you see? Visit the ' +\n",
              "            '<a target=\"_blank\" href=https://colab.research.google.com/notebooks/data_table.ipynb>data table notebook</a>'\n",
              "            + ' to learn more about interactive tables.';\n",
              "          element.innerHTML = '';\n",
              "          dataTable['output_type'] = 'display_data';\n",
              "          await google.colab.output.renderOutput(dataTable, element);\n",
              "          const docLink = document.createElement('div');\n",
              "          docLink.innerHTML = docLinkHtml;\n",
              "          element.appendChild(docLink);\n",
              "        }\n",
              "      </script>\n",
              "    </div>\n",
              "  </div>\n",
              "  "
            ]
          },
          "metadata": {},
          "execution_count": 134
        }
      ]
    },
    {
      "cell_type": "code",
      "source": [
        "bins = [0, 50, 100, 150, 200, 300, 400, 500, 750, 1000, 2000, 3000]\n",
        "labels = ['<=50', '51-100', '101-150', '151-200', '201-300', '301-400', '401-500', '501-750', '751-1000', '1001-2000', '>2000']"
      ],
      "metadata": {
        "id": "af6sq7DO-xNu"
      },
      "execution_count": null,
      "outputs": []
    },
    {
      "cell_type": "code",
      "source": [
        "df['CC_bin'] = pd.cut(df['CC'], bins=bins, labels=labels)"
      ],
      "metadata": {
        "id": "xBOKDFMN_uJL"
      },
      "execution_count": null,
      "outputs": []
    },
    {
      "cell_type": "code",
      "source": [
        "df['type_of_bike_Electric Bike'] = df['CC_bin'].apply(lambda x: 1 if x == '<=50' else 0)\n",
        "df['type_of_bike_Petrol Bike'] = df['CC_bin'].apply(lambda x: 1 if x != '<=50' else 0)"
      ],
      "metadata": {
        "id": "FiTa8jvZ_wXr"
      },
      "execution_count": null,
      "outputs": []
    },
    {
      "cell_type": "code",
      "source": [
        "df.drop('CC_bin', axis=1, inplace=True)"
      ],
      "metadata": {
        "id": "pou-gCrQ_zF5"
      },
      "execution_count": null,
      "outputs": []
    },
    {
      "cell_type": "code",
      "source": [
        "print(df.describe())"
      ],
      "metadata": {
        "colab": {
          "base_uri": "https://localhost:8080/"
        },
        "id": "J2ZtlNvT_1OO",
        "outputId": "88d93818-cd97-41ef-a18c-74d4972a6ee6"
      },
      "execution_count": null,
      "outputs": [
        {
          "output_type": "stream",
          "name": "stdout",
          "text": [
            "              price           CC     mileage  weight_in_kg  \\\n",
            "count  3.610000e+02   361.000000  361.000000    361.000000   \n",
            "mean   8.399079e+05   591.857285   44.681413    178.839335   \n",
            "std    1.052083e+06   543.220237   39.890270     73.839516   \n",
            "min    3.800000e+04    87.800000    8.000000     55.000000   \n",
            "25%    1.000000e+05   124.700000   20.000000    118.000000   \n",
            "50%    2.420000e+05   312.200000   30.000000    169.000000   \n",
            "75%    1.459000e+06   998.000000   55.000000    216.000000   \n",
            "max    7.990000e+06  2458.000000  320.000000    433.000000   \n",
            "\n",
            "       acceleration_speed   top_speed  type_of_bike_Electric Bike  \\\n",
            "count          361.000000  361.000000                       361.0   \n",
            "mean             3.546061  124.626055                         0.0   \n",
            "std              2.106613   40.857865                         0.0   \n",
            "min              1.010000   25.000000                         0.0   \n",
            "25%              2.258000   93.840000                         0.0   \n",
            "50%              2.300000  141.200000                         0.0   \n",
            "75%              4.000000  156.200000                         0.0   \n",
            "max             13.800000  200.000000                         0.0   \n",
            "\n",
            "       type_of_bike_Petrol Bike  \n",
            "count                     361.0  \n",
            "mean                        1.0  \n",
            "std                         0.0  \n",
            "min                         1.0  \n",
            "25%                         1.0  \n",
            "50%                         1.0  \n",
            "75%                         1.0  \n",
            "max                         1.0  \n"
          ]
        }
      ]
    },
    {
      "cell_type": "code",
      "source": [
        "df.corr()"
      ],
      "metadata": {
        "colab": {
          "base_uri": "https://localhost:8080/",
          "height": 416
        },
        "id": "5HrQSepv_4Im",
        "outputId": "d97a7659-4015-4de3-81b7-193e058a69ce"
      },
      "execution_count": null,
      "outputs": [
        {
          "output_type": "execute_result",
          "data": {
            "text/plain": [
              "                               price        CC   mileage  weight_in_kg  \\\n",
              "price                       1.000000  0.831619 -0.481968      0.771784   \n",
              "CC                          0.831619  1.000000 -0.563012      0.916550   \n",
              "mileage                    -0.481968 -0.563012  1.000000     -0.582938   \n",
              "weight_in_kg                0.771784  0.916550 -0.582938      1.000000   \n",
              "acceleration_speed         -0.435491 -0.526056  0.519110     -0.612416   \n",
              "top_speed                   0.552568  0.661495 -0.685001      0.726739   \n",
              "type_of_bike_Electric Bike       NaN       NaN       NaN           NaN   \n",
              "type_of_bike_Petrol Bike         NaN       NaN       NaN           NaN   \n",
              "\n",
              "                            acceleration_speed  top_speed  \\\n",
              "price                                -0.435491   0.552568   \n",
              "CC                                   -0.526056   0.661495   \n",
              "mileage                               0.519110  -0.685001   \n",
              "weight_in_kg                         -0.612416   0.726739   \n",
              "acceleration_speed                    1.000000  -0.826845   \n",
              "top_speed                            -0.826845   1.000000   \n",
              "type_of_bike_Electric Bike                 NaN        NaN   \n",
              "type_of_bike_Petrol Bike                   NaN        NaN   \n",
              "\n",
              "                            type_of_bike_Electric Bike  \\\n",
              "price                                              NaN   \n",
              "CC                                                 NaN   \n",
              "mileage                                            NaN   \n",
              "weight_in_kg                                       NaN   \n",
              "acceleration_speed                                 NaN   \n",
              "top_speed                                          NaN   \n",
              "type_of_bike_Electric Bike                         NaN   \n",
              "type_of_bike_Petrol Bike                           NaN   \n",
              "\n",
              "                            type_of_bike_Petrol Bike  \n",
              "price                                            NaN  \n",
              "CC                                               NaN  \n",
              "mileage                                          NaN  \n",
              "weight_in_kg                                     NaN  \n",
              "acceleration_speed                               NaN  \n",
              "top_speed                                        NaN  \n",
              "type_of_bike_Electric Bike                       NaN  \n",
              "type_of_bike_Petrol Bike                         NaN  "
            ],
            "text/html": [
              "\n",
              "  <div id=\"df-a39c2900-7a71-40cd-84d7-f4c0dcc3a87a\">\n",
              "    <div class=\"colab-df-container\">\n",
              "      <div>\n",
              "<style scoped>\n",
              "    .dataframe tbody tr th:only-of-type {\n",
              "        vertical-align: middle;\n",
              "    }\n",
              "\n",
              "    .dataframe tbody tr th {\n",
              "        vertical-align: top;\n",
              "    }\n",
              "\n",
              "    .dataframe thead th {\n",
              "        text-align: right;\n",
              "    }\n",
              "</style>\n",
              "<table border=\"1\" class=\"dataframe\">\n",
              "  <thead>\n",
              "    <tr style=\"text-align: right;\">\n",
              "      <th></th>\n",
              "      <th>price</th>\n",
              "      <th>CC</th>\n",
              "      <th>mileage</th>\n",
              "      <th>weight_in_kg</th>\n",
              "      <th>acceleration_speed</th>\n",
              "      <th>top_speed</th>\n",
              "      <th>type_of_bike_Electric Bike</th>\n",
              "      <th>type_of_bike_Petrol Bike</th>\n",
              "    </tr>\n",
              "  </thead>\n",
              "  <tbody>\n",
              "    <tr>\n",
              "      <th>price</th>\n",
              "      <td>1.000000</td>\n",
              "      <td>0.831619</td>\n",
              "      <td>-0.481968</td>\n",
              "      <td>0.771784</td>\n",
              "      <td>-0.435491</td>\n",
              "      <td>0.552568</td>\n",
              "      <td>NaN</td>\n",
              "      <td>NaN</td>\n",
              "    </tr>\n",
              "    <tr>\n",
              "      <th>CC</th>\n",
              "      <td>0.831619</td>\n",
              "      <td>1.000000</td>\n",
              "      <td>-0.563012</td>\n",
              "      <td>0.916550</td>\n",
              "      <td>-0.526056</td>\n",
              "      <td>0.661495</td>\n",
              "      <td>NaN</td>\n",
              "      <td>NaN</td>\n",
              "    </tr>\n",
              "    <tr>\n",
              "      <th>mileage</th>\n",
              "      <td>-0.481968</td>\n",
              "      <td>-0.563012</td>\n",
              "      <td>1.000000</td>\n",
              "      <td>-0.582938</td>\n",
              "      <td>0.519110</td>\n",
              "      <td>-0.685001</td>\n",
              "      <td>NaN</td>\n",
              "      <td>NaN</td>\n",
              "    </tr>\n",
              "    <tr>\n",
              "      <th>weight_in_kg</th>\n",
              "      <td>0.771784</td>\n",
              "      <td>0.916550</td>\n",
              "      <td>-0.582938</td>\n",
              "      <td>1.000000</td>\n",
              "      <td>-0.612416</td>\n",
              "      <td>0.726739</td>\n",
              "      <td>NaN</td>\n",
              "      <td>NaN</td>\n",
              "    </tr>\n",
              "    <tr>\n",
              "      <th>acceleration_speed</th>\n",
              "      <td>-0.435491</td>\n",
              "      <td>-0.526056</td>\n",
              "      <td>0.519110</td>\n",
              "      <td>-0.612416</td>\n",
              "      <td>1.000000</td>\n",
              "      <td>-0.826845</td>\n",
              "      <td>NaN</td>\n",
              "      <td>NaN</td>\n",
              "    </tr>\n",
              "    <tr>\n",
              "      <th>top_speed</th>\n",
              "      <td>0.552568</td>\n",
              "      <td>0.661495</td>\n",
              "      <td>-0.685001</td>\n",
              "      <td>0.726739</td>\n",
              "      <td>-0.826845</td>\n",
              "      <td>1.000000</td>\n",
              "      <td>NaN</td>\n",
              "      <td>NaN</td>\n",
              "    </tr>\n",
              "    <tr>\n",
              "      <th>type_of_bike_Electric Bike</th>\n",
              "      <td>NaN</td>\n",
              "      <td>NaN</td>\n",
              "      <td>NaN</td>\n",
              "      <td>NaN</td>\n",
              "      <td>NaN</td>\n",
              "      <td>NaN</td>\n",
              "      <td>NaN</td>\n",
              "      <td>NaN</td>\n",
              "    </tr>\n",
              "    <tr>\n",
              "      <th>type_of_bike_Petrol Bike</th>\n",
              "      <td>NaN</td>\n",
              "      <td>NaN</td>\n",
              "      <td>NaN</td>\n",
              "      <td>NaN</td>\n",
              "      <td>NaN</td>\n",
              "      <td>NaN</td>\n",
              "      <td>NaN</td>\n",
              "      <td>NaN</td>\n",
              "    </tr>\n",
              "  </tbody>\n",
              "</table>\n",
              "</div>\n",
              "      <button class=\"colab-df-convert\" onclick=\"convertToInteractive('df-a39c2900-7a71-40cd-84d7-f4c0dcc3a87a')\"\n",
              "              title=\"Convert this dataframe to an interactive table.\"\n",
              "              style=\"display:none;\">\n",
              "        \n",
              "  <svg xmlns=\"http://www.w3.org/2000/svg\" height=\"24px\"viewBox=\"0 0 24 24\"\n",
              "       width=\"24px\">\n",
              "    <path d=\"M0 0h24v24H0V0z\" fill=\"none\"/>\n",
              "    <path d=\"M18.56 5.44l.94 2.06.94-2.06 2.06-.94-2.06-.94-.94-2.06-.94 2.06-2.06.94zm-11 1L8.5 8.5l.94-2.06 2.06-.94-2.06-.94L8.5 2.5l-.94 2.06-2.06.94zm10 10l.94 2.06.94-2.06 2.06-.94-2.06-.94-.94-2.06-.94 2.06-2.06.94z\"/><path d=\"M17.41 7.96l-1.37-1.37c-.4-.4-.92-.59-1.43-.59-.52 0-1.04.2-1.43.59L10.3 9.45l-7.72 7.72c-.78.78-.78 2.05 0 2.83L4 21.41c.39.39.9.59 1.41.59.51 0 1.02-.2 1.41-.59l7.78-7.78 2.81-2.81c.8-.78.8-2.07 0-2.86zM5.41 20L4 18.59l7.72-7.72 1.47 1.35L5.41 20z\"/>\n",
              "  </svg>\n",
              "      </button>\n",
              "      \n",
              "  <style>\n",
              "    .colab-df-container {\n",
              "      display:flex;\n",
              "      flex-wrap:wrap;\n",
              "      gap: 12px;\n",
              "    }\n",
              "\n",
              "    .colab-df-convert {\n",
              "      background-color: #E8F0FE;\n",
              "      border: none;\n",
              "      border-radius: 50%;\n",
              "      cursor: pointer;\n",
              "      display: none;\n",
              "      fill: #1967D2;\n",
              "      height: 32px;\n",
              "      padding: 0 0 0 0;\n",
              "      width: 32px;\n",
              "    }\n",
              "\n",
              "    .colab-df-convert:hover {\n",
              "      background-color: #E2EBFA;\n",
              "      box-shadow: 0px 1px 2px rgba(60, 64, 67, 0.3), 0px 1px 3px 1px rgba(60, 64, 67, 0.15);\n",
              "      fill: #174EA6;\n",
              "    }\n",
              "\n",
              "    [theme=dark] .colab-df-convert {\n",
              "      background-color: #3B4455;\n",
              "      fill: #D2E3FC;\n",
              "    }\n",
              "\n",
              "    [theme=dark] .colab-df-convert:hover {\n",
              "      background-color: #434B5C;\n",
              "      box-shadow: 0px 1px 3px 1px rgba(0, 0, 0, 0.15);\n",
              "      filter: drop-shadow(0px 1px 2px rgba(0, 0, 0, 0.3));\n",
              "      fill: #FFFFFF;\n",
              "    }\n",
              "  </style>\n",
              "\n",
              "      <script>\n",
              "        const buttonEl =\n",
              "          document.querySelector('#df-a39c2900-7a71-40cd-84d7-f4c0dcc3a87a button.colab-df-convert');\n",
              "        buttonEl.style.display =\n",
              "          google.colab.kernel.accessAllowed ? 'block' : 'none';\n",
              "\n",
              "        async function convertToInteractive(key) {\n",
              "          const element = document.querySelector('#df-a39c2900-7a71-40cd-84d7-f4c0dcc3a87a');\n",
              "          const dataTable =\n",
              "            await google.colab.kernel.invokeFunction('convertToInteractive',\n",
              "                                                     [key], {});\n",
              "          if (!dataTable) return;\n",
              "\n",
              "          const docLinkHtml = 'Like what you see? Visit the ' +\n",
              "            '<a target=\"_blank\" href=https://colab.research.google.com/notebooks/data_table.ipynb>data table notebook</a>'\n",
              "            + ' to learn more about interactive tables.';\n",
              "          element.innerHTML = '';\n",
              "          dataTable['output_type'] = 'display_data';\n",
              "          await google.colab.output.renderOutput(dataTable, element);\n",
              "          const docLink = document.createElement('div');\n",
              "          docLink.innerHTML = docLinkHtml;\n",
              "          element.appendChild(docLink);\n",
              "        }\n",
              "      </script>\n",
              "    </div>\n",
              "  </div>\n",
              "  "
            ]
          },
          "metadata": {},
          "execution_count": 143
        }
      ]
    },
    {
      "cell_type": "code",
      "source": [
        "predictors = df[['CC', 'mileage', 'weight_in_kg', 'acceleration_speed', 'top_speed']]\n",
        "corr_matrix = predictors.corr()\n",
        "print(corr_matrix)"
      ],
      "metadata": {
        "colab": {
          "base_uri": "https://localhost:8080/"
        },
        "id": "U63L_11pAcSM",
        "outputId": "1425619b-443c-49f4-be22-39ed0ef35e1f"
      },
      "execution_count": null,
      "outputs": [
        {
          "output_type": "stream",
          "name": "stdout",
          "text": [
            "                          CC   mileage  weight_in_kg  acceleration_speed  \\\n",
            "CC                  1.000000 -0.563012      0.916550           -0.526056   \n",
            "mileage            -0.563012  1.000000     -0.582938            0.519110   \n",
            "weight_in_kg        0.916550 -0.582938      1.000000           -0.612416   \n",
            "acceleration_speed -0.526056  0.519110     -0.612416            1.000000   \n",
            "top_speed           0.661495 -0.685001      0.726739           -0.826845   \n",
            "\n",
            "                    top_speed  \n",
            "CC                   0.661495  \n",
            "mileage             -0.685001  \n",
            "weight_in_kg         0.726739  \n",
            "acceleration_speed  -0.826845  \n",
            "top_speed            1.000000  \n"
          ]
        }
      ]
    },
    {
      "cell_type": "code",
      "source": [
        "import seaborn as sns\n",
        "sns.pairplot(df, x_vars=[ 'CC',  'weight_in_kg','top_speed','mileage'], y_vars='price', kind='reg')"
      ],
      "metadata": {
        "colab": {
          "base_uri": "https://localhost:8080/",
          "height": 214
        },
        "id": "LMlhtqMbBIo8",
        "outputId": "156d3c98-fff5-4b58-aef3-7a2befd2e9ff"
      },
      "execution_count": null,
      "outputs": [
        {
          "output_type": "execute_result",
          "data": {
            "text/plain": [
              "<seaborn.axisgrid.PairGrid at 0x7f350aef2ee0>"
            ]
          },
          "metadata": {},
          "execution_count": 149
        },
        {
          "output_type": "display_data",
          "data": {
            "text/plain": [
              "<Figure size 720x180 with 4 Axes>"
            ],
            "image/png": "[encoded data removed]"
          },
          "metadata": {
            "needs_background": "light"
          }
        }
      ]
    },
    {
      "cell_type": "code",
      "source": [
        "from sklearn.model_selection import train_test_split"
      ],
      "metadata": {
        "id": "Mf5xv8vDBY7U"
      },
      "execution_count": null,
      "outputs": []
    },
    {
      "cell_type": "code",
      "source": [
        "X = df[['CC','weight_in_kg', 'top_speed', 'mileage']]\n",
        "y = df['price']"
      ],
      "metadata": {
        "id": "k6v1kB6ZC1L-"
      },
      "execution_count": null,
      "outputs": []
    },
    {
      "cell_type": "code",
      "source": [
        "from sklearn.preprocessing import StandardScaler\n",
        "scaler = StandardScaler()\n",
        "X= scaler.fit_transform(X)"
      ],
      "metadata": {
        "id": "UBQ__NnrGCnG"
      },
      "execution_count": null,
      "outputs": []
    },
    {
      "cell_type": "code",
      "source": [
        "import numpy as np\n",
        "from sklearn.model_selection import train_test_split\n",
        "from sklearn.datasets import make_classification\n",
        "from sklearn.ensemble import RandomForestClassifier"
      ],
      "metadata": {
        "id": "NzRXeZE6H1Bd"
      },
      "execution_count": 172,
      "outputs": []
    },
    {
      "cell_type": "code",
      "source": [
        "X, y = make_classification(n_samples=1000, n_features=20, n_informative=10, n_classes=2, random_state=1)"
      ],
      "metadata": {
        "id": "6N5AZCupH-L_"
      },
      "execution_count": 173,
      "outputs": []
    },
    {
      "cell_type": "code",
      "source": [
        "X_train, X_test, y_train, y_test = train_test_split(X, y, test_size=0.2, random_state=1)"
      ],
      "metadata": {
        "id": "K2s-UQzDIEB2"
      },
      "execution_count": 174,
      "outputs": []
    },
    {
      "cell_type": "code",
      "source": [
        "models = []\n",
        "models.append(RandomForestClassifier(n_estimators=50, random_state=1))\n",
        "models.append(RandomForestClassifier(n_estimators=100, random_state=1))\n",
        "models.append(RandomForestClassifier(n_estimators=150, random_state=1))"
      ],
      "metadata": {
        "id": "rcwFXtUAIMEc"
      },
      "execution_count": 175,
      "outputs": []
    },
    {
      "cell_type": "code",
      "source": [
        "predictions = []\n",
        "for model in models:\n",
        "    model.fit(X_train, y_train)\n",
        "    predictions.append(model.predict(X_test))"
      ],
      "metadata": {
        "id": "FcggVxM2ISNk"
      },
      "execution_count": 176,
      "outputs": []
    },
    {
      "cell_type": "code",
      "source": [
        "ensemble_preds = np.mean(predictions, axis=0)"
      ],
      "metadata": {
        "id": "fOl6u9K0IWvl"
      },
      "execution_count": 177,
      "outputs": []
    },
    {
      "cell_type": "code",
      "source": [
        "accuracy = np.mean(ensemble_preds == y_test)"
      ],
      "metadata": {
        "id": "RPWF17GGIbmN"
      },
      "execution_count": 184,
      "outputs": []
    },
    {
      "cell_type": "code",
      "source": [
        "logreg = LogisticRegression()\n",
        "logreg.fit(X_train, y_train)"
      ],
      "metadata": {
        "colab": {
          "base_uri": "https://localhost:8080/"
        },
        "id": "zSiz4pJxF-AK",
        "outputId": "2dd0d17c-a675-4f07-ae14-d82e3e725ce3"
      },
      "execution_count": 185,
      "outputs": [
        {
          "output_type": "execute_result",
          "data": {
            "text/plain": [
              "LogisticRegression()"
            ]
          },
          "metadata": {},
          "execution_count": 185
        }
      ]
    },
    {
      "cell_type": "code",
      "source": [
        "y_pred = logreg.predict(X_test)"
      ],
      "metadata": {
        "id": "T6ymEpjYEvFz"
      },
      "execution_count": 181,
      "outputs": []
    },
    {
      "cell_type": "code",
      "source": [
        "from sklearn.metrics import accuracy_score, confusion_matrix, classification_report\n",
        "print('Accuracy:', accuracy)\n",
        "print('Confusion matrix:\\n', confusion_matrix(y_test, y_pred))\n",
        "print('Classification report:\\n', classification_report(y_test, y_pred))"
      ],
      "metadata": {
        "colab": {
          "base_uri": "https://localhost:8080/"
        },
        "id": "zy2wwueCGPMv",
        "outputId": "44c57cc5-f4c0-4a74-ce16-96398867fd2e"
      },
      "execution_count": 183,
      "outputs": [
        {
          "output_type": "stream",
          "name": "stdout",
          "text": [
            "Accuracy: 0.905\n",
            "Confusion matrix:\n",
            " [[89  8]\n",
            " [14 89]]\n",
            "Classification report:\n",
            "               precision    recall  f1-score   support\n",
            "\n",
            "           0       0.86      0.92      0.89        97\n",
            "           1       0.92      0.86      0.89       103\n",
            "\n",
            "    accuracy                           0.89       200\n",
            "   macro avg       0.89      0.89      0.89       200\n",
            "weighted avg       0.89      0.89      0.89       200\n",
            "\n"
          ]
        }
      ]
    }
  ]
}